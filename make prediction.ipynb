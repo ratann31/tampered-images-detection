{
 "cells": [
  {
   "cell_type": "code",
   "execution_count": null,
   "id": "e9f817a6-90e9-46c1-9e2d-e3ed8b73e287",
   "metadata": {},
   "outputs": [],
   "source": [
    "from tensorflow.keras.models import load_model\n",
    "\n",
    "model = load_model('model.h5', custom_objects={\n",
    "    'HybridSECBAM': HybridSECBAM,\n",
    "    'EnhancedMHABlock': EnhancedMHABlock\n",
    "})\n"
   ]
  },
  {
   "cell_type": "code",
   "execution_count": null,
   "id": "bcafc91b",
   "metadata": {},
   "outputs": [],
   "source": [
    "from tensorflow.keras.preprocessing import image\n",
    "import numpy as np\n",
    "\n",
    "# Load and preprocess a single image\n",
    "img_path = 'This-is-not-a-person-2-1.jpeg'\n",
    "img = image.load_img(img_path, target_size=(224, 224))  # Match input size\n",
    "img_array = image.img_to_array(img)\n",
    "img_array = tf.keras.applications.efficientnet.preprocess_input(img_array)  # Preprocess\n",
    "img_array = np.expand_dims(img_array, axis=0)  # Add batch dimension\n",
    "\n",
    "# Predict\n",
    "prediction1 = model.predict(img_array)\n",
    "print(\"Prediction:\", prediction1)\n"
   ]
  },
  {
   "cell_type": "code",
   "execution_count": null,
   "id": "bbbf7aa4",
   "metadata": {},
   "outputs": [],
   "source": [
    "label = (prediction1 > 0.5).astype(int)\n",
    "print(\"Predicted Label:\", \"forged\" if label == 1 else \"authentic\")\n"
   ]
  },
  {
   "cell_type": "code",
   "execution_count": null,
   "id": "1904eb56",
   "metadata": {},
   "outputs": [],
   "source": [
    "from tensorflow.keras.preprocessing import image\n",
    "import numpy as np\n",
    "\n",
    "# Load and preprocess a single image\n",
    "img_path = 'aapnvogymq_105_0.png'\n",
    "img = image.load_img(img_path, target_size=(224, 224))  # Match input size\n",
    "img_array = image.img_to_array(img)\n",
    "img_array = tf.keras.applications.efficientnet.preprocess_input(img_array)  # Preprocess\n",
    "img_array = np.expand_dims(img_array, axis=0)  # Add batch dimension\n",
    "\n",
    "# Predict\n",
    "prediction = model.predict(img_array)\n",
    "print(\"Prediction:\", prediction)\n"
   ]
  },
  {
   "cell_type": "code",
   "execution_count": null,
   "id": "f099d785",
   "metadata": {},
   "outputs": [],
   "source": [
    "label = (prediction > 0.5).astype(int)\n",
    "print(\"Predicted Label:\", \"forged\" if label == 1 else \"authentic\")\n"
   ]
  }
 ],
 "metadata": {
  "kernelspec": {
   "display_name": "Python 3 (ipykernel)",
   "language": "python",
   "name": "python3"
  },
  "language_info": {
   "codemirror_mode": {
    "name": "ipython",
    "version": 3
   },
   "file_extension": ".py",
   "mimetype": "text/x-python",
   "name": "python",
   "nbconvert_exporter": "python",
   "pygments_lexer": "ipython3",
   "version": "3.10.0"
  }
 },
 "nbformat": 4,
 "nbformat_minor": 5
}
